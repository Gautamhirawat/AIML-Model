{
  "cells": [
    {
      "cell_type": "code",
      "execution_count": 1,
      "metadata": {
        "id": "fft1R8Y3vi6g"
      },
      "outputs": [],
      "source": [
        "import pandas as pd\n",
        "import matplotlib.pyplot as plt\n",
        "import seaborn as sns"
      ]
    },
    {
      "cell_type": "code",
      "execution_count": 2,
      "metadata": {
        "id": "XqbqwRjKwN8D"
      },
      "outputs": [],
      "source": [
        "df = pd.read_csv('Real_Estate_Pricing.csv')"
      ]
    },
    {
      "cell_type": "code",
      "execution_count": 3,
      "metadata": {
        "colab": {
          "base_uri": "https://localhost:8080/",
          "height": 206
        },
        "id": "1eMj0-CFwc4k",
        "outputId": "bd9cfcb0-a5b3-4468-90ff-f6b379128050"
      },
      "outputs": [
        {
          "data": {
            "text/html": [
              "<div>\n",
              "<style scoped>\n",
              "    .dataframe tbody tr th:only-of-type {\n",
              "        vertical-align: middle;\n",
              "    }\n",
              "\n",
              "    .dataframe tbody tr th {\n",
              "        vertical-align: top;\n",
              "    }\n",
              "\n",
              "    .dataframe thead th {\n",
              "        text-align: right;\n",
              "    }\n",
              "</style>\n",
              "<table border=\"1\" class=\"dataframe\">\n",
              "  <thead>\n",
              "    <tr style=\"text-align: right;\">\n",
              "      <th></th>\n",
              "      <th>Transaction date</th>\n",
              "      <th>House age</th>\n",
              "      <th>Distance to the nearest MRT station</th>\n",
              "      <th>Number of convenience stores</th>\n",
              "      <th>Latitude</th>\n",
              "      <th>Longitude</th>\n",
              "      <th>House price of unit area</th>\n",
              "    </tr>\n",
              "  </thead>\n",
              "  <tbody>\n",
              "    <tr>\n",
              "      <th>0</th>\n",
              "      <td>2012-09-02 16:42:30.519336</td>\n",
              "      <td>13.3</td>\n",
              "      <td>4082.0150</td>\n",
              "      <td>8</td>\n",
              "      <td>25.007059</td>\n",
              "      <td>121.561694</td>\n",
              "      <td>6.488673</td>\n",
              "    </tr>\n",
              "    <tr>\n",
              "      <th>1</th>\n",
              "      <td>2012-09-04 22:52:29.919544</td>\n",
              "      <td>35.5</td>\n",
              "      <td>274.0144</td>\n",
              "      <td>2</td>\n",
              "      <td>25.012148</td>\n",
              "      <td>121.546990</td>\n",
              "      <td>24.970725</td>\n",
              "    </tr>\n",
              "    <tr>\n",
              "      <th>2</th>\n",
              "      <td>2012-09-05 01:10:52.349449</td>\n",
              "      <td>1.1</td>\n",
              "      <td>1978.6710</td>\n",
              "      <td>10</td>\n",
              "      <td>25.003850</td>\n",
              "      <td>121.528336</td>\n",
              "      <td>26.694267</td>\n",
              "    </tr>\n",
              "    <tr>\n",
              "      <th>3</th>\n",
              "      <td>2012-09-05 13:26:01.189083</td>\n",
              "      <td>22.2</td>\n",
              "      <td>1055.0670</td>\n",
              "      <td>5</td>\n",
              "      <td>24.962887</td>\n",
              "      <td>121.482178</td>\n",
              "      <td>38.091638</td>\n",
              "    </tr>\n",
              "    <tr>\n",
              "      <th>4</th>\n",
              "      <td>2012-09-06 08:29:47.910523</td>\n",
              "      <td>8.5</td>\n",
              "      <td>967.4000</td>\n",
              "      <td>6</td>\n",
              "      <td>25.011037</td>\n",
              "      <td>121.479946</td>\n",
              "      <td>21.654710</td>\n",
              "    </tr>\n",
              "  </tbody>\n",
              "</table>\n",
              "</div>"
            ],
            "text/plain": [
              "             Transaction date  House age  Distance to the nearest MRT station  \\\n",
              "0  2012-09-02 16:42:30.519336       13.3                            4082.0150   \n",
              "1  2012-09-04 22:52:29.919544       35.5                             274.0144   \n",
              "2  2012-09-05 01:10:52.349449        1.1                            1978.6710   \n",
              "3  2012-09-05 13:26:01.189083       22.2                            1055.0670   \n",
              "4  2012-09-06 08:29:47.910523        8.5                             967.4000   \n",
              "\n",
              "   Number of convenience stores   Latitude   Longitude  \\\n",
              "0                             8  25.007059  121.561694   \n",
              "1                             2  25.012148  121.546990   \n",
              "2                            10  25.003850  121.528336   \n",
              "3                             5  24.962887  121.482178   \n",
              "4                             6  25.011037  121.479946   \n",
              "\n",
              "   House price of unit area  \n",
              "0                  6.488673  \n",
              "1                 24.970725  \n",
              "2                 26.694267  \n",
              "3                 38.091638  \n",
              "4                 21.654710  "
            ]
          },
          "execution_count": 3,
          "metadata": {},
          "output_type": "execute_result"
        }
      ],
      "source": [
        "df.head()"
      ]
    },
    {
      "cell_type": "code",
      "execution_count": 4,
      "metadata": {
        "colab": {
          "base_uri": "https://localhost:8080/"
        },
        "id": "aEt7qkYfxMrc",
        "outputId": "84aa6048-4aeb-4da9-f8c6-a703d94049ee"
      },
      "outputs": [
        {
          "name": "stdout",
          "output_type": "stream",
          "text": [
            "<class 'pandas.core.frame.DataFrame'>\n",
            "RangeIndex: 414 entries, 0 to 413\n",
            "Data columns (total 7 columns):\n",
            " #   Column                               Non-Null Count  Dtype  \n",
            "---  ------                               --------------  -----  \n",
            " 0   Transaction date                     414 non-null    object \n",
            " 1   House age                            414 non-null    float64\n",
            " 2   Distance to the nearest MRT station  414 non-null    float64\n",
            " 3   Number of convenience stores         414 non-null    int64  \n",
            " 4   Latitude                             414 non-null    float64\n",
            " 5   Longitude                            414 non-null    float64\n",
            " 6   House price of unit area             414 non-null    float64\n",
            "dtypes: float64(5), int64(1), object(1)\n",
            "memory usage: 22.8+ KB\n"
          ]
        }
      ],
      "source": [
        "df.info()"
      ]
    },
    {
      "cell_type": "code",
      "execution_count": 5,
      "metadata": {
        "colab": {
          "base_uri": "https://localhost:8080/",
          "height": 300
        },
        "id": "9HtDeOuDb9qa",
        "outputId": "89b038a9-6f8d-40e5-c7ba-606303d9b5cf"
      },
      "outputs": [
        {
          "data": {
            "text/html": [
              "<div>\n",
              "<style scoped>\n",
              "    .dataframe tbody tr th:only-of-type {\n",
              "        vertical-align: middle;\n",
              "    }\n",
              "\n",
              "    .dataframe tbody tr th {\n",
              "        vertical-align: top;\n",
              "    }\n",
              "\n",
              "    .dataframe thead th {\n",
              "        text-align: right;\n",
              "    }\n",
              "</style>\n",
              "<table border=\"1\" class=\"dataframe\">\n",
              "  <thead>\n",
              "    <tr style=\"text-align: right;\">\n",
              "      <th></th>\n",
              "      <th>House age</th>\n",
              "      <th>Distance to the nearest MRT station</th>\n",
              "      <th>Number of convenience stores</th>\n",
              "      <th>Latitude</th>\n",
              "      <th>Longitude</th>\n",
              "      <th>House price of unit area</th>\n",
              "    </tr>\n",
              "  </thead>\n",
              "  <tbody>\n",
              "    <tr>\n",
              "      <th>count</th>\n",
              "      <td>414.000000</td>\n",
              "      <td>414.000000</td>\n",
              "      <td>414.000000</td>\n",
              "      <td>414.000000</td>\n",
              "      <td>414.000000</td>\n",
              "      <td>414.000000</td>\n",
              "    </tr>\n",
              "    <tr>\n",
              "      <th>mean</th>\n",
              "      <td>18.405072</td>\n",
              "      <td>1064.468233</td>\n",
              "      <td>4.265700</td>\n",
              "      <td>24.973605</td>\n",
              "      <td>121.520268</td>\n",
              "      <td>29.102149</td>\n",
              "    </tr>\n",
              "    <tr>\n",
              "      <th>std</th>\n",
              "      <td>11.757670</td>\n",
              "      <td>1196.749385</td>\n",
              "      <td>2.880498</td>\n",
              "      <td>0.024178</td>\n",
              "      <td>0.026989</td>\n",
              "      <td>15.750935</td>\n",
              "    </tr>\n",
              "    <tr>\n",
              "      <th>min</th>\n",
              "      <td>0.000000</td>\n",
              "      <td>23.382840</td>\n",
              "      <td>0.000000</td>\n",
              "      <td>24.932075</td>\n",
              "      <td>121.473888</td>\n",
              "      <td>0.000000</td>\n",
              "    </tr>\n",
              "    <tr>\n",
              "      <th>25%</th>\n",
              "      <td>9.900000</td>\n",
              "      <td>289.324800</td>\n",
              "      <td>2.000000</td>\n",
              "      <td>24.952422</td>\n",
              "      <td>121.496866</td>\n",
              "      <td>18.422493</td>\n",
              "    </tr>\n",
              "    <tr>\n",
              "      <th>50%</th>\n",
              "      <td>16.450000</td>\n",
              "      <td>506.114400</td>\n",
              "      <td>5.000000</td>\n",
              "      <td>24.974353</td>\n",
              "      <td>121.520912</td>\n",
              "      <td>30.394070</td>\n",
              "    </tr>\n",
              "    <tr>\n",
              "      <th>75%</th>\n",
              "      <td>30.375000</td>\n",
              "      <td>1454.279000</td>\n",
              "      <td>6.750000</td>\n",
              "      <td>24.994947</td>\n",
              "      <td>121.544676</td>\n",
              "      <td>40.615184</td>\n",
              "    </tr>\n",
              "    <tr>\n",
              "      <th>max</th>\n",
              "      <td>42.700000</td>\n",
              "      <td>6306.153000</td>\n",
              "      <td>10.000000</td>\n",
              "      <td>25.014578</td>\n",
              "      <td>121.565321</td>\n",
              "      <td>65.571716</td>\n",
              "    </tr>\n",
              "  </tbody>\n",
              "</table>\n",
              "</div>"
            ],
            "text/plain": [
              "        House age  Distance to the nearest MRT station  \\\n",
              "count  414.000000                           414.000000   \n",
              "mean    18.405072                          1064.468233   \n",
              "std     11.757670                          1196.749385   \n",
              "min      0.000000                            23.382840   \n",
              "25%      9.900000                           289.324800   \n",
              "50%     16.450000                           506.114400   \n",
              "75%     30.375000                          1454.279000   \n",
              "max     42.700000                          6306.153000   \n",
              "\n",
              "       Number of convenience stores    Latitude   Longitude  \\\n",
              "count                    414.000000  414.000000  414.000000   \n",
              "mean                       4.265700   24.973605  121.520268   \n",
              "std                        2.880498    0.024178    0.026989   \n",
              "min                        0.000000   24.932075  121.473888   \n",
              "25%                        2.000000   24.952422  121.496866   \n",
              "50%                        5.000000   24.974353  121.520912   \n",
              "75%                        6.750000   24.994947  121.544676   \n",
              "max                       10.000000   25.014578  121.565321   \n",
              "\n",
              "       House price of unit area  \n",
              "count                414.000000  \n",
              "mean                  29.102149  \n",
              "std                   15.750935  \n",
              "min                    0.000000  \n",
              "25%                   18.422493  \n",
              "50%                   30.394070  \n",
              "75%                   40.615184  \n",
              "max                   65.571716  "
            ]
          },
          "execution_count": 5,
          "metadata": {},
          "output_type": "execute_result"
        }
      ],
      "source": [
        "df.describe()"
      ]
    },
    {
      "cell_type": "markdown",
      "metadata": {
        "id": "g_Zsghgex_PU"
      },
      "source": []
    },
    {
      "cell_type": "code",
      "execution_count": 6,
      "metadata": {
        "id": "ZJnFUB4q2Q6p"
      },
      "outputs": [],
      "source": [
        "from sklearn.model_selection import train_test_split\n",
        "del df['Transaction date']\n"
      ]
    },
    {
      "cell_type": "code",
      "execution_count": 7,
      "metadata": {
        "id": "8dKtSIZj23ot"
      },
      "outputs": [],
      "source": [
        "x= df.drop(\"House price of unit area\",axis=1)\n",
        "y= df[\"House price of unit area\"]"
      ]
    },
    {
      "cell_type": "code",
      "execution_count": 8,
      "metadata": {
        "id": "EWD_if303TCR"
      },
      "outputs": [],
      "source": [
        "x_train, x_test , y_train , y_test = train_test_split(x,y,test_size = 0.3, random_state = 42)\n"
      ]
    },
    {
      "cell_type": "code",
      "execution_count": 9,
      "metadata": {
        "colab": {
          "base_uri": "https://localhost:8080/",
          "height": 423
        },
        "id": "MEJP0EcR4GTh",
        "outputId": "bb85428c-f9c8-404b-c4a7-c8bb9f637904"
      },
      "outputs": [
        {
          "data": {
            "text/html": [
              "<div>\n",
              "<style scoped>\n",
              "    .dataframe tbody tr th:only-of-type {\n",
              "        vertical-align: middle;\n",
              "    }\n",
              "\n",
              "    .dataframe tbody tr th {\n",
              "        vertical-align: top;\n",
              "    }\n",
              "\n",
              "    .dataframe thead th {\n",
              "        text-align: right;\n",
              "    }\n",
              "</style>\n",
              "<table border=\"1\" class=\"dataframe\">\n",
              "  <thead>\n",
              "    <tr style=\"text-align: right;\">\n",
              "      <th></th>\n",
              "      <th>House age</th>\n",
              "      <th>Distance to the nearest MRT station</th>\n",
              "      <th>Number of convenience stores</th>\n",
              "      <th>Latitude</th>\n",
              "      <th>Longitude</th>\n",
              "    </tr>\n",
              "  </thead>\n",
              "  <tbody>\n",
              "    <tr>\n",
              "      <th>7</th>\n",
              "      <td>15.2</td>\n",
              "      <td>552.43710</td>\n",
              "      <td>5</td>\n",
              "      <td>24.997109</td>\n",
              "      <td>121.544377</td>\n",
              "    </tr>\n",
              "    <tr>\n",
              "      <th>194</th>\n",
              "      <td>35.9</td>\n",
              "      <td>90.45606</td>\n",
              "      <td>5</td>\n",
              "      <td>24.958754</td>\n",
              "      <td>121.564475</td>\n",
              "    </tr>\n",
              "    <tr>\n",
              "      <th>19</th>\n",
              "      <td>13.7</td>\n",
              "      <td>193.58450</td>\n",
              "      <td>1</td>\n",
              "      <td>24.943551</td>\n",
              "      <td>121.515410</td>\n",
              "    </tr>\n",
              "    <tr>\n",
              "      <th>176</th>\n",
              "      <td>15.5</td>\n",
              "      <td>167.59890</td>\n",
              "      <td>0</td>\n",
              "      <td>24.941884</td>\n",
              "      <td>121.552743</td>\n",
              "    </tr>\n",
              "    <tr>\n",
              "      <th>367</th>\n",
              "      <td>13.0</td>\n",
              "      <td>2103.55500</td>\n",
              "      <td>0</td>\n",
              "      <td>24.934857</td>\n",
              "      <td>121.546216</td>\n",
              "    </tr>\n",
              "    <tr>\n",
              "      <th>...</th>\n",
              "      <td>...</td>\n",
              "      <td>...</td>\n",
              "      <td>...</td>\n",
              "      <td>...</td>\n",
              "      <td>...</td>\n",
              "    </tr>\n",
              "    <tr>\n",
              "      <th>71</th>\n",
              "      <td>12.0</td>\n",
              "      <td>2408.99300</td>\n",
              "      <td>9</td>\n",
              "      <td>24.932844</td>\n",
              "      <td>121.551066</td>\n",
              "    </tr>\n",
              "    <tr>\n",
              "      <th>106</th>\n",
              "      <td>4.5</td>\n",
              "      <td>579.20830</td>\n",
              "      <td>7</td>\n",
              "      <td>25.014003</td>\n",
              "      <td>121.519101</td>\n",
              "    </tr>\n",
              "    <tr>\n",
              "      <th>270</th>\n",
              "      <td>30.4</td>\n",
              "      <td>444.13340</td>\n",
              "      <td>0</td>\n",
              "      <td>24.950815</td>\n",
              "      <td>121.544501</td>\n",
              "    </tr>\n",
              "    <tr>\n",
              "      <th>348</th>\n",
              "      <td>20.0</td>\n",
              "      <td>552.43710</td>\n",
              "      <td>1</td>\n",
              "      <td>24.958066</td>\n",
              "      <td>121.477361</td>\n",
              "    </tr>\n",
              "    <tr>\n",
              "      <th>102</th>\n",
              "      <td>34.9</td>\n",
              "      <td>2185.12800</td>\n",
              "      <td>6</td>\n",
              "      <td>25.008886</td>\n",
              "      <td>121.485673</td>\n",
              "    </tr>\n",
              "  </tbody>\n",
              "</table>\n",
              "<p>289 rows × 5 columns</p>\n",
              "</div>"
            ],
            "text/plain": [
              "     House age  Distance to the nearest MRT station  \\\n",
              "7         15.2                            552.43710   \n",
              "194       35.9                             90.45606   \n",
              "19        13.7                            193.58450   \n",
              "176       15.5                            167.59890   \n",
              "367       13.0                           2103.55500   \n",
              "..         ...                                  ...   \n",
              "71        12.0                           2408.99300   \n",
              "106        4.5                            579.20830   \n",
              "270       30.4                            444.13340   \n",
              "348       20.0                            552.43710   \n",
              "102       34.9                           2185.12800   \n",
              "\n",
              "     Number of convenience stores   Latitude   Longitude  \n",
              "7                               5  24.997109  121.544377  \n",
              "194                             5  24.958754  121.564475  \n",
              "19                              1  24.943551  121.515410  \n",
              "176                             0  24.941884  121.552743  \n",
              "367                             0  24.934857  121.546216  \n",
              "..                            ...        ...         ...  \n",
              "71                              9  24.932844  121.551066  \n",
              "106                             7  25.014003  121.519101  \n",
              "270                             0  24.950815  121.544501  \n",
              "348                             1  24.958066  121.477361  \n",
              "102                             6  25.008886  121.485673  \n",
              "\n",
              "[289 rows x 5 columns]"
            ]
          },
          "execution_count": 9,
          "metadata": {},
          "output_type": "execute_result"
        }
      ],
      "source": [
        "x_train"
      ]
    },
    {
      "cell_type": "code",
      "execution_count": 10,
      "metadata": {
        "colab": {
          "base_uri": "https://localhost:8080/",
          "height": 458
        },
        "id": "JBkzYK9p4JbH",
        "outputId": "184044b6-bc38-4826-c054-210db09bc602"
      },
      "outputs": [
        {
          "data": {
            "text/plain": [
              "7      44.116585\n",
              "194    26.782369\n",
              "19     16.444017\n",
              "176    13.794808\n",
              "367    22.491470\n",
              "         ...    \n",
              "71     25.696463\n",
              "106    42.829193\n",
              "270    11.277817\n",
              "348    29.726401\n",
              "102    30.850929\n",
              "Name: House price of unit area, Length: 289, dtype: float64"
            ]
          },
          "execution_count": 10,
          "metadata": {},
          "output_type": "execute_result"
        }
      ],
      "source": [
        "y_train"
      ]
    },
    {
      "cell_type": "code",
      "execution_count": 11,
      "metadata": {
        "id": "59VSfce14MiI"
      },
      "outputs": [],
      "source": [
        "from sklearn.linear_model import LinearRegression\n"
      ]
    },
    {
      "cell_type": "code",
      "execution_count": 12,
      "metadata": {
        "id": "yK6u2sFa4fvF"
      },
      "outputs": [],
      "source": [
        "lm = LinearRegression()\n"
      ]
    },
    {
      "cell_type": "code",
      "execution_count": 13,
      "metadata": {
        "id": "R9s-kLTI4pjU"
      },
      "outputs": [],
      "source": [
        "model = lm.fit(x_train,y_train)"
      ]
    },
    {
      "cell_type": "code",
      "execution_count": 14,
      "metadata": {
        "colab": {
          "base_uri": "https://localhost:8080/"
        },
        "id": "0r8o3Ipb4zSJ",
        "outputId": "f1233cdc-7ce9-4dfb-d407-36869678dda2"
      },
      "outputs": [
        {
          "data": {
            "text/plain": [
              "array([-2.40463361e-02, -7.97358868e-03,  1.81490996e+00,  6.66819898e+01,\n",
              "       -5.43564343e+01])"
            ]
          },
          "execution_count": 14,
          "metadata": {},
          "output_type": "execute_result"
        }
      ],
      "source": [
        "lm.coef_"
      ]
    },
    {
      "cell_type": "code",
      "execution_count": 15,
      "metadata": {
        "colab": {
          "base_uri": "https://localhost:8080/"
        },
        "id": "p-WqbpkR449J",
        "outputId": "b556dcac-867d-4088-9722-697dc10235c9"
      },
      "outputs": [
        {
          "name": "stdout",
          "output_type": "stream",
          "text": [
            "                                          Coef\n",
            "House age                            -0.024046\n",
            "Distance to the nearest MRT station  -0.007974\n",
            "Number of convenience stores          1.814910\n",
            "Latitude                             66.681990\n",
            "Longitude                           -54.356434\n"
          ]
        }
      ],
      "source": [
        "cfd = pd.DataFrame(lm.coef_ , x.columns , columns=['Coef'])\n",
        "print(cfd)"
      ]
    },
    {
      "cell_type": "code",
      "execution_count": 16,
      "metadata": {
        "colab": {
          "base_uri": "https://localhost:8080/"
        },
        "id": "l1zMf_erdGI_",
        "outputId": "349c09b5-b0e4-4012-9d0d-9b8af9ed3466"
      },
      "outputs": [
        {
          "data": {
            "text/plain": [
              "0.5467318215995245"
            ]
          },
          "execution_count": 16,
          "metadata": {},
          "output_type": "execute_result"
        }
      ],
      "source": [
        "model.score(x_test, y_test)\n"
      ]
    },
    {
      "cell_type": "code",
      "execution_count": 17,
      "metadata": {
        "id": "td0mbZi25ZgE"
      },
      "outputs": [],
      "source": [
        "predications = lm.predict(x_test)"
      ]
    },
    {
      "cell_type": "code",
      "execution_count": 18,
      "metadata": {
        "colab": {
          "base_uri": "https://localhost:8080/"
        },
        "id": "sFDQEarv52kb",
        "outputId": "105d44cd-ea12-4616-efb6-e0ee605256dc"
      },
      "outputs": [
        {
          "data": {
            "text/plain": [
              "array([37.38059587, 29.21649911, 29.74961466, 43.57544474, 22.64212901,\n",
              "       33.12719379, 18.15053108, 29.11640049, 33.30506858,  7.3729599 ,\n",
              "       32.70342667, 39.24006013,  9.59360482, 26.1998934 , 35.44185372,\n",
              "       30.32956996, 26.28123031, 24.74582432, 32.32870992, 34.65700996,\n",
              "       40.09588314, 43.70887119, 24.1986973 , 25.77809507, 17.43884459,\n",
              "       34.00539088,  6.69697219, 33.34783476, 44.02158418, 31.36087838,\n",
              "       35.15119698, 40.14289989, 45.87098707, 46.02822402, 30.78435485,\n",
              "       28.10690251, 10.4334797 , 41.16240374, 40.50605439, 35.9382248 ,\n",
              "       41.54592881, 35.08357536, 11.3748296 ,  1.6471374 , 35.82077386,\n",
              "       25.07355947, 44.94293981, 37.48657366, 20.54389545, 37.89064561,\n",
              "        0.25886405, 30.78280453, 27.79765097, 32.84529375, 39.24279645,\n",
              "       32.1239996 , 36.87580829, 35.34993426, 43.89123416, 30.41047744,\n",
              "       16.07066216, 14.06782682, 29.21363554, 36.86898122, 19.98863461,\n",
              "       23.80961001, 34.49467448, 23.31345249, 36.17138846, 26.87052093,\n",
              "       34.4542871 , 33.70873754, 13.30081085, 31.43532075, 31.40972737,\n",
              "       -5.43805059, 15.53148422, 38.65257013, 23.49619056, 25.57113141,\n",
              "       21.23815023,  7.90233835, 37.21832851, 12.68693633, 40.7818949 ,\n",
              "       30.9745382 , 34.39359901, 20.20967712,  6.52942258, 44.60032123,\n",
              "       24.51083815, -9.00123098, 30.23784244, 31.22846772, 38.08606236,\n",
              "       25.97543379, 20.00966839, 29.61921616, 33.7292205 ,  1.91855434,\n",
              "       30.42570994, 38.78213262, 41.4794469 , 42.14574977,  7.38524728,\n",
              "       30.91386352, 30.18468171, 43.16105663, 25.8045496 , 28.58740644,\n",
              "       25.33435627, 10.84980263, 36.57091087, 19.10073126, 37.03668811,\n",
              "       25.92439653, 28.04426624, 27.42472496, 36.56087909, 32.26120283,\n",
              "       30.12718083, 29.11071211, 25.17998691, 20.85612803, 32.2320807 ])"
            ]
          },
          "execution_count": 18,
          "metadata": {},
          "output_type": "execute_result"
        }
      ],
      "source": [
        "predications"
      ]
    },
    {
      "cell_type": "code",
      "execution_count": 19,
      "metadata": {
        "colab": {
          "base_uri": "https://localhost:8080/",
          "height": 467
        },
        "id": "kG8ZUT6H6Gqv",
        "outputId": "de41407e-c20b-4e2b-885d-bf93c5fda7ec"
      },
      "outputs": [
        {
          "data": {
            "text/plain": [
              "<Axes: xlabel='House price of unit area'>"
            ]
          },
          "execution_count": 19,
          "metadata": {},
          "output_type": "execute_result"
        },
        {
          "data": {
            "image/png": "[encoded data removed]",
            "text/plain": [
              "<Figure size 640x480 with 1 Axes>"
            ]
          },
          "metadata": {},
          "output_type": "display_data"
        }
      ],
      "source": [
        "sns.scatterplot(x = y_test , y = predications)\n"
      ]
    },
    {
      "cell_type": "code",
      "execution_count": 20,
      "metadata": {
        "id": "7soL-bjq6cQ6"
      },
      "outputs": [],
      "source": [
        "from sklearn.metrics import mean_absolute_error , mean_squared_error\n",
        "import math"
      ]
    },
    {
      "cell_type": "code",
      "execution_count": 21,
      "metadata": {
        "colab": {
          "base_uri": "https://localhost:8080/"
        },
        "id": "kD_llAU37AUd",
        "outputId": "ab6afc6c-1e18-4a85-dfd6-21bd1c25a323"
      },
      "outputs": [
        {
          "name": "stdout",
          "output_type": "stream",
          "text": [
            "MAE :  9.66446438279149\n",
            "MSE :  130.9642851547013\n",
            "RMSE:  11.443962825643103\n"
          ]
        }
      ],
      "source": [
        "print('MAE : ' , mean_absolute_error(y_test , predications))\n",
        "print('MSE : ' , mean_squared_error(y_test , predications))\n",
        "print('RMSE: ', math.sqrt(mean_squared_error(y_test , predications)))"
      ]
    },
    {
      "cell_type": "code",
      "execution_count": 22,
      "metadata": {
        "id": "rHSLo1ZL7gOi"
      },
      "outputs": [],
      "source": [
        "residuals = y_test - predications"
      ]
    },
    {
      "cell_type": "code",
      "execution_count": 23,
      "metadata": {
        "colab": {
          "base_uri": "https://localhost:8080/",
          "height": 524
        },
        "id": "y1Q6XZun8O5m",
        "outputId": "046ae924-36d0-4b8f-dfee-a4dc037c4663"
      },
      "outputs": [
        {
          "data": {
            "text/plain": [
              "<seaborn.axisgrid.FacetGrid at 0x70a982ca5310>"
            ]
          },
          "execution_count": 23,
          "metadata": {},
          "output_type": "execute_result"
        },
        {
          "data": {
            "image/png": "[encoded data removed]",
            "text/plain": [
              "<Figure size 500x500 with 1 Axes>"
            ]
          },
          "metadata": {},
          "output_type": "display_data"
        }
      ],
      "source": [
        "sns.displot(residuals , bins = 30 , kde = True)"
      ]
    },
    {
      "cell_type": "code",
      "execution_count": 24,
      "metadata": {
        "colab": {
          "base_uri": "https://localhost:8080/",
          "height": 472
        },
        "id": "8U_10NMf8S1r",
        "outputId": "468f0ae8-d3f4-4706-d0ae-096857994d0d"
      },
      "outputs": [
        {
          "data": {
            "image/png": "[encoded data removed]",
            "text/plain": [
              "<Figure size 640x480 with 1 Axes>"
            ]
          },
          "metadata": {},
          "output_type": "display_data"
        }
      ],
      "source": [
        "import pylab\n",
        "import scipy.stats as stats\n",
        "\n",
        "stats.probplot(residuals , dist = 'norm' , plot = pylab)\n",
        "pylab.show()"
      ]
    },
    {
      "cell_type": "code",
      "execution_count": null,
      "metadata": {
        "id": "gF9RiQgI855E"
      },
      "outputs": [],
      "source": []
    }
  ],
  "metadata": {
    "accelerator": "GPU",
    "colab": {
      "gpuType": "T4",
      "provenance": []
    },
    "kernelspec": {
      "display_name": "Python 3",
      "name": "python3"
    },
    "language_info": {
      "codemirror_mode": {
        "name": "ipython",
        "version": 3
      },
      "file_extension": ".py",
      "mimetype": "text/x-python",
      "name": "python",
      "nbconvert_exporter": "python",
      "pygments_lexer": "ipython3",
      "version": "3.12.3"
    }
  },
  "nbformat": 4,
  "nbformat_minor": 0
}
